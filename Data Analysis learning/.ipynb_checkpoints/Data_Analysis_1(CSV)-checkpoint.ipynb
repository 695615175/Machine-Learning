{
 "cells": [
  {
   "cell_type": "markdown",
   "metadata": {},
   "source": [
    "# FUN With CSV Files"
   ]
  },
  {
   "cell_type": "code",
   "execution_count": 7,
   "metadata": {
    "collapsed": false
   },
   "outputs": [],
   "source": [
    "import unicodecsv\n",
    "import pprint\n",
    "import csv"
   ]
  },
  {
   "cell_type": "code",
   "execution_count": 3,
   "metadata": {
    "collapsed": true
   },
   "outputs": [],
   "source": [
    "csv_file_name=\"enrollments.csv\""
   ]
  },
  {
   "cell_type": "markdown",
   "metadata": {},
   "source": [
    "## Json Import of csv file"
   ]
  },
  {
   "cell_type": "markdown",
   "metadata": {},
   "source": [
    "#### Import data in json formate, All data are imported as string "
   ]
  },
  {
   "cell_type": "code",
   "execution_count": 16,
   "metadata": {
    "collapsed": false
   },
   "outputs": [
    {
     "name": "stdout",
     "output_type": "stream",
     "text": [
      "type(reader) = <unicodecsv.py2.DictReader instance at 0x04A10A08>\n",
      "Total no of row :  1640 \n",
      "\n",
      "\n",
      "{u'account_key': u'448',\n",
      " u'cancel_date': u'2014-11-10',\n",
      " u'days_to_cancel': u'5',\n",
      " u'is_canceled': u'True',\n",
      " u'is_udacity': u'True',\n",
      " u'join_date': u'2014-11-05',\n",
      " u'status': u'canceled'}\n"
     ]
    }
   ],
   "source": [
    "enrolment = []\n",
    "\n",
    "f=open(csv_file_name,'rb')\n",
    "\n",
    "reader =unicodecsv.DictReader(f)\n",
    "#reader is a itterater so loop is possible only once\n",
    "print \"type(reader) =\",reader\n",
    "\n",
    "#for each_row in reader:\n",
    "#    enrolment.append(each_row)\n",
    "enrolment=list(reader) #shorthand for above two line\n",
    "\n",
    "#close file\n",
    "f.close()\n",
    "\n",
    "print \"Total no of row : \",len(enrolment),\"\\n\\n\"\n",
    "\n",
    "#print demo data\n",
    "pprint.pprint(enrolment[1])\n"
   ]
  },
  {
   "cell_type": "markdown",
   "metadata": {},
   "source": [
    "## Simple import"
   ]
  },
  {
   "cell_type": "code",
   "execution_count": 23,
   "metadata": {
    "collapsed": false
   },
   "outputs": [
    {
     "name": "stdout",
     "output_type": "stream",
     "text": [
      "Headings : ['account_key,status,join_date,cancel_date,days_to_cancel,is_udacity,is_canceled']\n",
      "Data : ['448,canceled,2014-11-10,2015-01-14,65,True,True']\n"
     ]
    }
   ],
   "source": [
    "data = []\n",
    "with open(csv_file_name, 'rb') as csvfile:\n",
    "    reader = csv.reader(csvfile, delimiter=' ', quotechar='|')\n",
    "    for row in reader:\n",
    "        data.append(row)\n",
    "\n",
    "print \"Headings :\",(data[0])\n",
    "print\"Data :\",(data[1])"
   ]
  },
  {
   "cell_type": "code",
   "execution_count": null,
   "metadata": {
    "collapsed": true
   },
   "outputs": [],
   "source": []
  }
 ],
 "metadata": {
  "kernelspec": {
   "display_name": "Python 2",
   "language": "python",
   "name": "python2"
  },
  "language_info": {
   "codemirror_mode": {
    "name": "ipython",
    "version": 2
   },
   "file_extension": ".py",
   "mimetype": "text/x-python",
   "name": "python",
   "nbconvert_exporter": "python",
   "pygments_lexer": "ipython2",
   "version": "2.7.10"
  }
 },
 "nbformat": 4,
 "nbformat_minor": 0
}
