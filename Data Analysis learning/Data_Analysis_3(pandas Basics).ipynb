{
 "cells": [
  {
   "cell_type": "markdown",
   "metadata": {},
   "source": [
    "## Pandas basics"
   ]
  },
  {
   "cell_type": "code",
   "execution_count": 1,
   "metadata": {
    "collapsed": true
   },
   "outputs": [],
   "source": [
    "import pandas as pd"
   ]
  },
  {
   "cell_type": "markdown",
   "metadata": {},
   "source": [
    "<h3>Pandas series</h3>\n",
    "<p>\n",
    "pandas series is similar to numpy array, But it suppport lots of extra functionality like <b> Pandaseries.describe()</b>\n",
    "</p>\n",
    "<p>\n",
    "Basic acces is samilar to numpy arrary, it support access by index( s[5] ) or slicing ( s[5:10] ).<br/>\n",
    "It also support vectorise operation and looping like numpy array.<br />\n",
    "Implemented in C so it works very fast.\n",
    "</p>"
   ]
  },
  {
   "cell_type": "markdown",
   "metadata": {},
   "source": [
    "### Benfits of Pandas series"
   ]
  },
  {
   "cell_type": "code",
   "execution_count": 8,
   "metadata": {
    "collapsed": false
   },
   "outputs": [
    {
     "name": "stdout",
     "output_type": "stream",
     "text": [
      "count    5.000000\n",
      "mean     4.000000\n",
      "std      1.581139\n",
      "min      2.000000\n",
      "25%      3.000000\n",
      "50%      4.000000\n",
      "75%      5.000000\n",
      "max      6.000000\n",
      "dtype: float64\n"
     ]
    }
   ],
   "source": [
    "s=pd.Series([2,3,4,5,6])\n",
    "print s.describe()"
   ]
  },
  {
   "cell_type": "markdown",
   "metadata": {},
   "source": [
    "<h3> Pandas Index </h3>\n",
    "<p>\n",
    "Hybrid of list and python Dictionary. It map key value pair.\n",
    "</p>"
   ]
  },
  {
   "cell_type": "code",
   "execution_count": 11,
   "metadata": {
    "collapsed": false
   },
   "outputs": [
    {
     "name": "stdout",
     "output_type": "stream",
     "text": [
      "Ram       40\n",
      "Syam      12\n",
      "Rahul     43\n",
      "Ganesh    56\n",
      "dtype: int64\n"
     ]
    }
   ],
   "source": [
    "sal=pd.Series([40,12,43,56],\n",
    "             index=['Ram',\n",
    "                  'Syam',\n",
    "                  \"Rahul\",\n",
    "                  \"Ganesh\"])\n",
    "print sal"
   ]
  },
  {
   "cell_type": "code",
   "execution_count": 20,
   "metadata": {
    "collapsed": false
   },
   "outputs": [
    {
     "name": "stdout",
     "output_type": "stream",
     "text": [
      "40\n"
     ]
    }
   ],
   "source": [
    "print sal[0]"
   ]
  },
  {
   "cell_type": "markdown",
   "metadata": {},
   "source": [
    "<h4>lookUp by index</h4>"
   ]
  },
  {
   "cell_type": "code",
   "execution_count": 21,
   "metadata": {
    "collapsed": false
   },
   "outputs": [
    {
     "name": "stdout",
     "output_type": "stream",
     "text": [
      "12\n"
     ]
    }
   ],
   "source": [
    "print sal.loc[\"Syam\"]"
   ]
  },
  {
   "cell_type": "markdown",
   "metadata": {},
   "source": [
    "<p>Using <b>sal[position]</b> is not prefered instead prefer to use <b>sal.iloc[position]</b>\n",
    "becouse Index has different meaning in series so it avoid confusion</p>"
   ]
  },
  {
   "cell_type": "code",
   "execution_count": 19,
   "metadata": {
    "collapsed": false
   },
   "outputs": [
    {
     "name": "stdout",
     "output_type": "stream",
     "text": [
      "56\n"
     ]
    }
   ],
   "source": [
    "print sal.iloc[3]"
   ]
  },
  {
   "cell_type": "markdown",
   "metadata": {},
   "source": [
    "<p><b>argmax()</b> function return index of max value element </p>"
   ]
  },
  {
   "cell_type": "code",
   "execution_count": 24,
   "metadata": {
    "collapsed": false
   },
   "outputs": [
    {
     "name": "stdout",
     "output_type": "stream",
     "text": [
      "Ganesh\n"
     ]
    }
   ],
   "source": [
    "print sal.argmax()"
   ]
  },
  {
   "cell_type": "code",
   "execution_count": 25,
   "metadata": {
    "collapsed": false
   },
   "outputs": [
    {
     "name": "stdout",
     "output_type": "stream",
     "text": [
      "56\n",
      "56\n"
     ]
    }
   ],
   "source": [
    "print sal.loc[\"Ganesh\"]\n",
    "print sal.max()"
   ]
  },
  {
   "cell_type": "markdown",
   "metadata": {},
   "source": [
    "### Adding series with Differen index"
   ]
  },
  {
   "cell_type": "code",
   "execution_count": 27,
   "metadata": {
    "collapsed": false
   },
   "outputs": [
    {
     "name": "stdout",
     "output_type": "stream",
     "text": [
      "a    1\n",
      "b    2\n",
      "c    3\n",
      "d    4\n",
      "dtype: int64\n"
     ]
    }
   ],
   "source": [
    "a=pd.Series([1,2,3,4],\n",
    "            index=[\"a\",\"b\",\"c\",\"d\"])\n",
    "b=pd.Series([9,8,7,6],\n",
    "           index=[\"c\",\"d\",\"e\",\"f\"])\n",
    "print a"
   ]
  },
  {
   "cell_type": "code",
   "execution_count": 28,
   "metadata": {
    "collapsed": false
   },
   "outputs": [
    {
     "name": "stdout",
     "output_type": "stream",
     "text": [
      "c    9\n",
      "d    8\n",
      "e    7\n",
      "f    6\n",
      "dtype: int64\n"
     ]
    }
   ],
   "source": [
    "print b"
   ]
  },
  {
   "cell_type": "code",
   "execution_count": 29,
   "metadata": {
    "collapsed": false
   },
   "outputs": [
    {
     "name": "stdout",
     "output_type": "stream",
     "text": [
      "a   NaN\n",
      "b   NaN\n",
      "c    12\n",
      "d    12\n",
      "e   NaN\n",
      "f   NaN\n",
      "dtype: float64\n"
     ]
    }
   ],
   "source": [
    "print a+b"
   ]
  },
  {
   "cell_type": "markdown",
   "metadata": {},
   "source": [
    "<p><b>C,D</b> are common in both so added correctly rest are just assign a volue <b>NaN (Not a number)</b> </p>\n",
    "<h4>we can modify it such that in case of mismatch original data will assign instead of NaN or drop All NaN </h4>"
   ]
  },
  {
   "cell_type": "code",
   "execution_count": 35,
   "metadata": {
    "collapsed": false
   },
   "outputs": [
    {
     "name": "stdout",
     "output_type": "stream",
     "text": [
      "c    12\n",
      "d    12\n",
      "dtype: float64\n"
     ]
    }
   ],
   "source": [
    "res = (a+b)\n",
    "print res.dropna()"
   ]
  },
  {
   "cell_type": "markdown",
   "metadata": {},
   "source": [
    "#### Treat missing values as 0"
   ]
  },
  {
   "cell_type": "code",
   "execution_count": 37,
   "metadata": {
    "collapsed": false
   },
   "outputs": [
    {
     "name": "stdout",
     "output_type": "stream",
     "text": [
      "a     1\n",
      "b     2\n",
      "c    12\n",
      "d    12\n",
      "e     7\n",
      "f     6\n",
      "dtype: float64\n"
     ]
    }
   ],
   "source": [
    "res=a.add(b,fill_value=0)\n",
    "print res"
   ]
  },
  {
   "cell_type": "markdown",
   "metadata": {},
   "source": [
    "<b>s.apply(function_name)</b> used to apply some operation on each element.\n",
    "<h3>Example:</h3>\n",
    "<p>\n",
    "adding 5 to each element , we can do this by simply series+5 becouse it is a vector, But lets do using this new techniqe <b>s.apply(function)</b>\n",
    "</p>"
   ]
  },
  {
   "cell_type": "code",
   "execution_count": 39,
   "metadata": {
    "collapsed": false
   },
   "outputs": [
    {
     "name": "stdout",
     "output_type": "stream",
     "text": [
      "a     1\n",
      "b     2\n",
      "c    12\n",
      "d    12\n",
      "e     7\n",
      "f     6\n",
      "dtype: float64\n"
     ]
    }
   ],
   "source": [
    "print res"
   ]
  },
  {
   "cell_type": "code",
   "execution_count": 40,
   "metadata": {
    "collapsed": false
   },
   "outputs": [
    {
     "name": "stdout",
     "output_type": "stream",
     "text": [
      "a     6\n",
      "b     7\n",
      "c    17\n",
      "d    17\n",
      "e    12\n",
      "f    11\n",
      "dtype: float64\n"
     ]
    }
   ],
   "source": [
    "print res+5"
   ]
  },
  {
   "cell_type": "code",
   "execution_count": 41,
   "metadata": {
    "collapsed": true
   },
   "outputs": [],
   "source": [
    "def add_5(x):\n",
    "    return x+5"
   ]
  },
  {
   "cell_type": "code",
   "execution_count": 44,
   "metadata": {
    "collapsed": false
   },
   "outputs": [
    {
     "name": "stdout",
     "output_type": "stream",
     "text": [
      "a     6\n",
      "b     7\n",
      "c    17\n",
      "d    17\n",
      "e    12\n",
      "f    11\n",
      "dtype: float64\n"
     ]
    }
   ],
   "source": [
    "print res.apply(add_5)"
   ]
  },
  {
   "cell_type": "markdown",
   "metadata": {},
   "source": [
    "<h3> Plotting </h3>\n",
    "<p>\n",
    "automaticaly plot index vs data plot\n",
    "</p>"
   ]
  },
  {
   "cell_type": "code",
   "execution_count": 47,
   "metadata": {
    "collapsed": false
   },
   "outputs": [
    {
     "name": "stdout",
     "output_type": "stream",
     "text": [
      "Populating the interactive namespace from numpy and matplotlib\n"
     ]
    },
    {
     "data": {
      "text/plain": [
       "<matplotlib.axes.AxesSubplot at 0x5746350>"
      ]
     },
     "execution_count": 47,
     "metadata": {},
     "output_type": "execute_result"
    },
    {
     "data": {
      "image/png": "[encoded data removed]",
      "text/plain": [
       "<matplotlib.figure.Figure at 0x5239270>"
      ]
     },
     "metadata": {},
     "output_type": "display_data"
    }
   ],
   "source": [
    "%pylab inline\n",
    "res.plot()"
   ]
  }
 ],
 "metadata": {
  "kernelspec": {
   "display_name": "Python 2",
   "language": "python",
   "name": "python2"
  },
  "language_info": {
   "codemirror_mode": {
    "name": "ipython",
    "version": 2
   },
   "file_extension": ".py",
   "mimetype": "text/x-python",
   "name": "python",
   "nbconvert_exporter": "python",
   "pygments_lexer": "ipython2",
   "version": "2.7.10"
  }
 },
 "nbformat": 4,
 "nbformat_minor": 0
}
